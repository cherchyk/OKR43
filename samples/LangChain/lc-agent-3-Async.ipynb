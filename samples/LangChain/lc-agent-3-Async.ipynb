{
  "cells": [
    {
      "cell_type": "code",
      "execution_count": 33,
      "metadata": {
        "colab": {
          "base_uri": "https://localhost:8080/"
        },
        "id": "RRYSu48huSUW",
        "outputId": "a1e97797-60e1-41fe-be57-a41cd22c8da9"
      },
      "outputs": [
        {
          "name": "stdout",
          "output_type": "stream",
          "text": [
            "/bin/bash: line 1: pip: command not found\n"
          ]
        }
      ],
      "source": [
        "!pip -q install langchain huggingface_hub openai google-search-results tiktoken wikipedia"
      ]
    },
    {
      "cell_type": "markdown",
      "metadata": {},
      "source": []
    },
    {
      "cell_type": "markdown",
      "metadata": {},
      "source": [
        "  \n",
        "\n",
        "# Async API\n",
        "\n",
        "\n",
        " https://python.langchain.com/docs/modules/agents/how_to/async_agent\n"
      ]
    },
    {
      "cell_type": "code",
      "execution_count": 34,
      "metadata": {
        "id": "dNA4TsHpu6OM"
      },
      "outputs": [],
      "source": [
        "import os\n",
        "\n",
        "#os.environ[\"OPENAI_API_KEY\"] = \"\"\n",
        "#os.environ[\"SERPAPI_API_KEY\"] = \"\"\n",
        "\n",
        "from dotenv import load_dotenv, find_dotenv\n",
        "_ = load_dotenv(find_dotenv())"
      ]
    },
    {
      "cell_type": "code",
      "execution_count": 35,
      "metadata": {
        "id": "HN6--fwnsNDb"
      },
      "outputs": [],
      "source": [
        "import asyncio\n",
        "import time\n",
        "\n",
        "from langchain.agents import Tool, AgentType, initialize_agent, load_tools\n",
        "\n",
        "from langchain.agents import initialize_agent\n",
        "from langchain.llms import AzureOpenAI"
      ]
    },
    {
      "cell_type": "code",
      "execution_count": 36,
      "metadata": {
        "id": "_CES15iNsUwD"
      },
      "outputs": [
        {
          "name": "stderr",
          "output_type": "stream",
          "text": [
            "/home/linuxbrew/.linuxbrew/Cellar/python@3.11/3.11.6_1/lib/python3.11/site-packages/langchain_community/llms/openai.py:872: UserWarning: As of openai>=1.0.0, Azure endpoints should be specified via the `azure_endpoint` param not `openai_api_base` (or alias `base_url`). Updating `openai_api_base` from https://b0cherch-oai1.openai.azure.com/ to https://b0cherch-oai1.openai.azure.com/openai.\n",
            "  warnings.warn(\n",
            "/home/linuxbrew/.linuxbrew/Cellar/python@3.11/3.11.6_1/lib/python3.11/site-packages/langchain_community/llms/openai.py:879: UserWarning: As of openai>=1.0.0, if `deployment_name` (or alias `azure_deployment`) is specified then `openai_api_base` (or alias `base_url`) should not be. Instead use `deployment_name` (or alias `azure_deployment`) and `azure_endpoint`.\n",
            "  warnings.warn(\n",
            "/home/linuxbrew/.linuxbrew/Cellar/python@3.11/3.11.6_1/lib/python3.11/site-packages/langchain_community/llms/openai.py:887: UserWarning: As of openai>=1.0.0, if `openai_api_base` (or alias `base_url`) is specified it is expected to be of the form https://example-resource.azure.openai.com/openai/deployments/example-deployment. Updating https://b0cherch-oai1.openai.azure.com/ to https://b0cherch-oai1.openai.azure.com/openai.\n",
            "  warnings.warn(\n"
          ]
        }
      ],
      "source": [
        "#llm = OpenAI(temperature=0)\n",
        "\n",
        "llm = AzureOpenAI(\n",
        "    deployment_name=\"dep1\" #gpt-35-turbo\n",
        ")"
      ]
    },
    {
      "cell_type": "code",
      "execution_count": 37,
      "metadata": {},
      "outputs": [],
      "source": [
        "\n",
        "questions = [\n",
        "    \"Who won the US Open men's final in 2019? What is his age raised to the 0.334 power?\",\n",
        "    \"Who is Olivia Wilde's boyfriend? What is his current age raised to the 0.23 power?\",\n",
        "    \"Who won the most recent formula 1 grand prix? What is their age raised to the 0.23 power?\",\n",
        "    \"Who won the US Open women's final in 2019? What is her age raised to the 0.34 power?\",\n",
        "    \"Who is Beyonce's husband? What is his age raised to the 0.19 power?\",\n",
        "]\n",
        "\n",
        "from langchain.agents import tool\n",
        "\n",
        "@tool\n",
        "def get_word_length(string: str) -> int:\n",
        "    \"\"\"Returns the length of a word.\"\"\"\n",
        "    return len(string)"
      ]
    },
    {
      "cell_type": "code",
      "execution_count": 38,
      "metadata": {
        "id": "OBh-7k6jsX7h"
      },
      "outputs": [],
      "source": [
        "\n",
        "\n",
        "tools = load_tools([\"google-serper\", \"llm-math\"], llm=llm)\n",
        "agent = initialize_agent(\n",
        "    tools, llm, agent=AgentType.ZERO_SHOT_REACT_DESCRIPTION, verbose=True\n",
        ")\n"
      ]
    },
    {
      "cell_type": "code",
      "execution_count": 39,
      "metadata": {},
      "outputs": [
        {
          "name": "stdout",
          "output_type": "stream",
          "text": [
            "\n",
            "\n",
            "\u001b[1m> Entering new AgentExecutor chain...\u001b[0m\n",
            "\u001b[32;1m\u001b[1;3m We need to use google_serper to get the name of the tennis player and then use a calculator to find the solution to this math question.\n",
            "Action: google_serper\n",
            "Action Input: \"us open winner men's 2019\"\u001b[0m\n",
            "Observation: \u001b[36;1m\u001b[1;3mRafael Nadal defeated Daniil Medvedev in the final, 7–5, 6–3, 5–7, 4–6, 6–4 to win the men's singles tennis title at the 2019 US Open. It was his fourth US ... Novak Djokovic and Naomi Osaka were the men's and women's singles defending champions. Neither managed to defend their title, with Djokovic retiring in the ... Relive Rafael Nadal's epic US Open 2019 victory as we ... Duration: 10:04. Posted: Nov 27, 2019. 5 seed Daniil Medvedev, 7-5, 6-3, 5-7, 4-6, 6-4, in the 2019 men's singles final. ... winner punctuated a 28-ball rally on break point for 3-2. Daniil Medvedev vs Rafael Nadal Full Match | 2019 US ... Duration: 4:47:32. Posted: Mar 20, 2020. List of Winners of the USA Open - Men's Singles ; 2020, Dominic Thiem (Austria), Alexander Zverev (Germany) ; 2019, Rafael Nadal (Spain), Daniil Medvedev (Russia) ... Rafael Nadal defeated Daniil Medvedev in the men's singles final of the U.S. Open on Sunday. David Waldstein. Huge respect to Daniil Medvedev from a Rafa fan. He is ... Duration: 3:28. Posted: Sep 8, 2019. Day 14 of the 2019 US Open features second-seed Rafael Nadal taking on the No. 5 seed, Daniil Medvedev for the US Open men's singles title.\u001b[0m\n",
            "Thought:\u001b[32;1m\u001b[1;3m Now that we have the name of the winner, we can use a calculator to find the answer to the math question.\n",
            "Action: Calculator\n",
            "Action Input: 33.6^0.334\u001b[0m\n",
            "Observation: \u001b[33;1m\u001b[1;3mAnswer: 3.234426738970606\u001b[0m\n",
            "Thought:\u001b[32;1m\u001b[1;3m I now know the final answer\n",
            "Final Answer: 3.234426738970606\u001b[0m\n",
            "\n",
            "\u001b[1m> Finished chain.\u001b[0m\n",
            "\n",
            "\n",
            "\u001b[1m> Entering new AgentExecutor chain...\u001b[0m\n",
            "\u001b[32;1m\u001b[1;3m I should use Google Search API to find Olivia Wilde's boyfriend.\n",
            "Action: google_serper\n",
            "Action Input: Olivia Wilde boyfriend\u001b[0m\n",
            "Observation: \u001b[36;1m\u001b[1;3mKay Cannon\u001b[0m\n",
            "Thought:\u001b[32;1m\u001b[1;3m I need to find Olivia Wilde's boyfriend's age.\n",
            "Action: google_serper\n",
            "Action Input: Kay Cannon age\u001b[0m\n",
            "Observation: \u001b[36;1m\u001b[1;3m49 years\u001b[0m\n",
            "Thought:\u001b[32;1m\u001b[1;3m I should use my calculator to determine his age raised to 0.23 power.\n",
            "Action: Calculator\n",
            "Action Input: 49 ^ 0.23\u001b[0m\n",
            "Observation: \u001b[33;1m\u001b[1;3mAnswer: 2.447626228522259\u001b[0m\n",
            "Thought:\u001b[32;1m\u001b[1;3m I now know the final answer.\n",
            "Final Answer: 2.447626228522259\u001b[0m\n",
            "\n",
            "\u001b[1m> Finished chain.\u001b[0m\n",
            "\n",
            "\n",
            "\u001b[1m> Entering new AgentExecutor chain...\u001b[0m\n",
            "\u001b[32;1m\u001b[1;3m I should use google_serper to search for the answer to this question\n",
            "Action: google_serper\n",
            "Action Input: \"most recent formula 1 grand prix winner\"\u001b[0m\n",
            "Observation: \u001b[36;1m\u001b[1;3mMax Verstappen\u001b[0m\n",
            "Thought:\u001b[32;1m\u001b[1;3m I should use google_serper to search for Max Verstappen's age\n",
            "Action: google_serper\n",
            "Action Input: \"max verstappen age\"\u001b[0m\n",
            "Observation: \u001b[36;1m\u001b[1;3m26 years\u001b[0m\n",
            "Thought:\u001b[32;1m\u001b[1;3m I should use the calculator to calculate Max Verstappen's age raised to the 0.23 power\n",
            "Action: Calculator\n",
            "Action Input: 26 ^ 0.23\u001b[0m\n",
            "Observation: \u001b[33;1m\u001b[1;3mAnswer: 2.1156502324195268\u001b[0m\n",
            "Thought:\u001b[32;1m\u001b[1;3m I now know the final answer\n",
            "Final Answer: 2.1156502324195268\u001b[0m\n",
            "\n",
            "\u001b[1m> Finished chain.\u001b[0m\n",
            "\n",
            "\n",
            "\u001b[1m> Entering new AgentExecutor chain...\u001b[0m\n",
            "\u001b[32;1m\u001b[1;3m I need to find the name of the woman who won the US Open. Then I need to find her age. Finally, I need to calculate her age raised to the 0.34 power.\n",
            "Action: google_serper\n",
            "Action Input: \"2019 US Open women's winner\"\u001b[0m\n",
            "Observation: \u001b[36;1m\u001b[1;3m2019 Winner: Bianca Andreescu Canadian tennis player Bianca Andreescu won her first Grand Slam trophy at the 2019 US Open. She defeated 23-time winner Serena Williams 6-3, 7-5.\u001b[0m\n",
            "Thought:\u001b[32;1m\u001b[1;3m Okay, so the winner's name is Bianca Andreescu.\n",
            "Action: google_serper\n",
            "Action Input: \"Bianca Andreescu age\"\u001b[0m\n",
            "Observation: \u001b[36;1m\u001b[1;3m23 years\u001b[0m\n",
            "Thought:\u001b[32;1m\u001b[1;3m She is 23 years old.\n",
            "Action: Calculator\n",
            "Action Input: 23^0.34\u001b[0m\n",
            "Observation: \u001b[33;1m\u001b[1;3mAnswer: 2.90393883210477\u001b[0m\n",
            "Thought:\u001b[32;1m\u001b[1;3m The final answer is 2.90393883210477\n",
            "Final Answer: 2.90393883210477\u001b[0m\n",
            "\n",
            "\u001b[1m> Finished chain.\u001b[0m\n",
            "\n",
            "\n",
            "\u001b[1m> Entering new AgentExecutor chain...\u001b[0m\n",
            "\u001b[32;1m\u001b[1;3m I can use google_serper to find out who Beyonce's husband is. Once I have that information, I can use the Calculator to find his age raised to the 0.19 power.\n",
            "Action: google_serper\n",
            "Action Input: \"who is beyonce's husband\"\u001b[0m\n",
            "Observation: \u001b[36;1m\u001b[1;3mJay-Z\u001b[0m\n",
            "Thought:\u001b[32;1m\u001b[1;3m Now that I know that Beyonce's husband is Jay-Z, I can use the Calculator to find his age raised to the 0.19 power.\n",
            "Action: Calculator\n",
            "Action Input: (48**0.19)\u001b[0m\n",
            "Observation: \u001b[33;1m\u001b[1;3mAnswer: 2.086583818523077\u001b[0m\n",
            "Thought:\u001b[32;1m\u001b[1;3m I now know the final answer.\n",
            "Final Answer: 2.0866\u001b[0m\n",
            "\n",
            "\u001b[1m> Finished chain.\u001b[0m\n",
            "Serial executed in 20.78 seconds.\n"
          ]
        }
      ],
      "source": [
        "\n",
        "s = time.perf_counter()\n",
        "for q in questions:\n",
        "    agent.run(q)\n",
        "elapsed = time.perf_counter() - s\n",
        "print(f\"Serial executed in {elapsed:0.2f} seconds.\")\n"
      ]
    },
    {
      "cell_type": "code",
      "execution_count": 40,
      "metadata": {},
      "outputs": [
        {
          "name": "stdout",
          "output_type": "stream",
          "text": [
            "\n",
            "\n",
            "\u001b[1m> Entering new AgentExecutor chain...\u001b[0m\n",
            "\n",
            "\n",
            "\u001b[1m> Entering new AgentExecutor chain...\u001b[0m\n",
            "\n",
            "\n",
            "\u001b[1m> Entering new AgentExecutor chain...\u001b[0m\n",
            "\n",
            "\n",
            "\u001b[1m> Entering new AgentExecutor chain...\u001b[0m\n",
            "\n",
            "\n",
            "\u001b[1m> Entering new AgentExecutor chain...\u001b[0m\n",
            "\u001b[32;1m\u001b[1;3m I need to find Beyonce's husband first, then I need to do some math\n",
            "Action: google_serper\n",
            "Action Input: \"beyonce husband\"\u001b[0m\u001b[32;1m\u001b[1;3m I should use the google_serper tool to answer the first part of the question and the calculator to answer the second part\n",
            "Action: google_serper\n",
            "Action Input: US Open women's final 2019 winner\u001b[0m\u001b[32;1m\u001b[1;3m This question is asking two things: 1) who won the most recent grand prix, and 2) what is their age raised to the 0.23 power.\n",
            "Action: google_serper\n",
            "Action Input: 'formula 1 most recent grand prix winner'\u001b[0m\u001b[32;1m\u001b[1;3m I can use google_serper to find out who Olivia Wilde's boyfriend is, and then use calculator to raise his age to the 0.23 power.\n",
            "Action: google_serper\n",
            "Action Input: \"olivia wilde boyfriend\"\u001b[0m\u001b[32;1m\u001b[1;3m This requires two steps, first we need to find who won the US Open men's final in 2019, and then we need to find their age and raise it to the 0.334 power\n",
            "Action: google_serper\n",
            "Action Input: \"us open men's final 2019 winner\"\u001b[0m\n",
            "Observation: \u001b[36;1m\u001b[1;3mJay-Z\u001b[0m\n",
            "Thought:\n",
            "Observation: \u001b[36;1m\u001b[1;3mBianca Andreescu defeated Serena Williams in the final, 6–3, 7–5 to win the women's singles tennis title at the 2019 US Open. It was her first major title, and she became the first Canadian, as well as the first player born in the 2000s, to win a major singles title.\u001b[0m\n",
            "Thought:\n",
            "Observation: \u001b[36;1m\u001b[1;3mKay Cannon\u001b[0m\n",
            "Thought:\n",
            "Observation: \u001b[36;1m\u001b[1;3mRafael Nadal defeated Daniil Medvedev in the final, 7–5, 6–3, 5–7, 4–6, 6–4 to win the men's singles tennis title at the 2019 US Open. It was his fourth US ... 5 seed Daniil Medvedev, 7-5, 6-3, 5-7, 4-6, 6-4, in the 2019 men's singles final. After leading by two sets and a break, Nadal found himself ... Watch the full match between Daniil Medvedev and Rafael ... Duration: 4:47:32. Posted: Mar 20, 2020. How Rafael Nadal won his 19th Grand Slam title | US Open ... Duration: 10:04. Posted: Nov 27, 2019. Huge respect to Daniil Medvedev from a Rafa fan. He is ... Duration: 3:28. Posted: Sep 8, 2019. In a repeat of the 2019 Rogers Cup, Rafael Nadal won the men's singles title, defeating first time Grand Slam finalist Daniil Medvedev in a 5-set thriller for ... Rafael Nadal met faced Daniil Medvedev in the final of the ... Duration: 10:52. Posted: Jan 26, 2022. Rafael Nadal wins his fourth US Open title! 8 Sept 2019. Medvedev wins fourth set, 6-4! 8 Sept 2019. Rafael Nadal beats Daniil Medvedev in US Open final to claim 19th major title. World No2 claims 7-5, 6-3, 5-7, 4-6, 6-4 ...\u001b[0m\n",
            "Thought:\n",
            "Observation: \u001b[36;1m\u001b[1;3mMax Verstappen\u001b[0m\n",
            "Thought:\u001b[32;1m\u001b[1;3m I need to find out Jay-Z's age\n",
            "Action: google_serper\n",
            "Action Input: \"jay-z age\"\u001b[0m\u001b[32;1m\u001b[1;3m I now know who won the US Open women's final in 2019\n",
            "Action: Calculator\n",
            "Action Input: 19^0.34\u001b[0m\u001b[32;1m\u001b[1;3m That was not the answer I was looking for. I will search again.\n",
            "Action: google_serper\n",
            "Action Input: \"olivia wilde boyfriend harry styles\"\u001b[0m\u001b[32;1m\u001b[1;3m Max Verstappen won the most recent grand prix.\n",
            "Action: google_serper\n",
            "Action Input: 'Max Verstappen age'\u001b[0m\u001b[32;1m\u001b[1;3m Now we have the name of the winner we can search for Rafael Nadal's age\n",
            "Action: google_serper\n",
            "Action Input: \"Rafael Nadal age\"\u001b[0m\n",
            "Observation: \u001b[33;1m\u001b[1;3mAnswer: 2.7212987634680084\u001b[0m\n",
            "Thought:\n",
            "Observation: \u001b[36;1m\u001b[1;3mNovember 18, 2022: Olivia and Harry are reportedly \"taking a break.\" People reports that the couple are \"taking a break\" after nearly two years of dating, with multiple sources telling the outlet that they are focusing on different priorities. \"He's still touring and is now going abroad.\u001b[0m\n",
            "Thought:\n",
            "Observation: \u001b[36;1m\u001b[1;3m54 years\u001b[0m\n",
            "Thought:\n",
            "Observation: \u001b[36;1m\u001b[1;3m37 years\u001b[0m\n",
            "Thought:\n",
            "Observation: \u001b[36;1m\u001b[1;3m26 years\u001b[0m\n",
            "Thought:\u001b[32;1m\u001b[1;3m I still don't have his age. I will search again.\n",
            "Action: google_serper\n",
            "Action Input: \"harry styles age\"\u001b[0m\u001b[32;1m\u001b[1;3m I need to do some math\n",
            "Action: Calculator\n",
            "Action Input: 54^0.19\u001b[0m\u001b[32;1m\u001b[1;3m I now know the final answer\n",
            "Final Answer: 2.7212987634680084\u001b[0m\n",
            "\n",
            "\u001b[1m> Finished chain.\u001b[0m\n",
            "\u001b[32;1m\u001b[1;3m Max Verstappen is 26 years old.\n",
            "Action: Calculator\n",
            "Action Input: 26 ** 0.23\u001b[0m\u001b[32;1m\u001b[1;3m We need to raise 37 to the 0.334 power\n",
            "Action: Calculator\n",
            "Action Input: 37 ** 0.334\u001b[0m\n",
            "Observation: \u001b[33;1m\u001b[1;3mAnswer: 2.1338054221462976\u001b[0m\n",
            "Thought:\n",
            "Observation: \u001b[33;1m\u001b[1;3mAnswer: 2.1156502324195268\u001b[0m\n",
            "Thought:\n",
            "Observation: \u001b[36;1m\u001b[1;3m29 years\u001b[0m\n",
            "Thought:\n",
            "Observation: \u001b[33;1m\u001b[1;3mAnswer: 3.340253100876781\u001b[0m\n",
            "Thought:\u001b[32;1m\u001b[1;3m Now I can use calculator to raise his age to the 0.23 power.\n",
            "Action: Calculator\n",
            "Action Input: 29^0.23\u001b[0m\u001b[32;1m\u001b[1;3m I now know the final answer\n",
            "Final Answer: 2.1338054221462976\u001b[0m\n",
            "\n",
            "\u001b[1m> Finished chain.\u001b[0m\n",
            "\u001b[32;1m\u001b[1;3m Max Verstappen's age raised to the power of 0.23 is 2.1156502324195268.\n",
            "Thought: I now know the final answer.\n",
            "Final Answer: 2.1156502324195268\u001b[0m\n",
            "\n",
            "\u001b[1m> Finished chain.\u001b[0m\n",
            "\n",
            "Observation: \u001b[33;1m\u001b[1;3mAnswer: 2.169459462491557\u001b[0m\n",
            "Thought:\u001b[32;1m\u001b[1;3m I now know the final answer\n",
            "Final Answer: 3.340253100876781\u001b[0m\n",
            "\n",
            "\u001b[1m> Finished chain.\u001b[0m\n",
            "\u001b[32;1m\u001b[1;3m I now know the final answer.\n",
            "Final Answer: 2.169459462491557\u001b[0m\n",
            "\n",
            "\u001b[1m> Finished chain.\u001b[0m\n",
            "Concurrent executed in 6.12 seconds.\n"
          ]
        }
      ],
      "source": [
        "s = time.perf_counter()\n",
        "# If running this outside of Jupyter, use asyncio.run or loop.run_until_complete\n",
        "tasks = [agent.arun(q) for q in questions]\n",
        "await asyncio.gather(*tasks)\n",
        "elapsed = time.perf_counter() - s\n",
        "print(f\"Concurrent executed in {elapsed:0.2f} seconds.\")"
      ]
    }
  ],
  "metadata": {
    "colab": {
      "provenance": []
    },
    "kernelspec": {
      "display_name": "Python 3",
      "name": "python3"
    },
    "language_info": {
      "codemirror_mode": {
        "name": "ipython",
        "version": 3
      },
      "file_extension": ".py",
      "mimetype": "text/x-python",
      "name": "python",
      "nbconvert_exporter": "python",
      "pygments_lexer": "ipython3",
      "version": "3.11.6"
    }
  },
  "nbformat": 4,
  "nbformat_minor": 0
}
